{
 "cells": [
  {
   "cell_type": "code",
   "execution_count": 38,
   "metadata": {},
   "outputs": [],
   "source": [
    "import pandas as pd\n",
    "import os\n",
    "def convert_df(df):\n",
    "    new_df = pd.DataFrame()\n",
    "    df = df.sort_values(by=['frame', 'id'])\n",
    "    new_df['frame'] = df['frame']\n",
    "    new_df['id'] = df['id']\n",
    "    new_df['l'] = df['l']\n",
    "    new_df['t'] = df['t']\n",
    "    new_df['w'] = df['r'] - df['l']\n",
    "    new_df['h'] = df['b'] - df['t']\n",
    "    new_df['x'] = df['x']\n",
    "    new_df['y'] = df['y']\n",
    "    new_df['z'] = df['z']\n",
    "    return new_df"
   ]
  },
  {
   "cell_type": "code",
   "execution_count": 37,
   "metadata": {},
   "outputs": [
    {
     "name": "stdout",
     "output_type": "stream",
     "text": [
      "view-HC4.txt\n",
      "view-HC1.txt\n",
      "view-HC2.txt\n",
      "view-HC3.txt\n",
      "view-GL5.txt\n",
      "view-GL6.txt\n",
      "view-GL2.txt\n",
      "view-GL1.txt\n",
      "view-IP1.txt\n",
      "view-HC2.txt\n",
      "view-HC3.txt\n",
      "view-Contour2.txt\n",
      "view-HC4.txt\n",
      "view-IP5.txt\n",
      "view-IP2.txt\n",
      "view-HC3.txt\n"
     ]
    }
   ],
   "source": [
    "dataset_folder = \"multiview-object-tracking-dataset/CAMPUS\"\n",
    "\n",
    "for folder in os.listdir(dataset_folder):\n",
    "    #remove existing gt folder\n",
    "    if os.path.exists(os.path.join(dataset_folder, folder, \"gt_np\")):\n",
    "        os.rmdir(os.path.join(dataset_folder, folder, \"gt_np\"))\n",
    "    #create new gt folder\n",
    "    os.mkdir(os.path.join(dataset_folder, folder, \"gt_np\"))\n",
    "    \n",
    "    #read data files\n",
    "    data_path = os.path.join(dataset_folder, folder)\n",
    "    data_dfs = {}\n",
    "    columns = ['id','l','t','r','b','frame','x','y','z','class']\n",
    "    #read all data files\n",
    "    for data_file in os.listdir(data_path):\n",
    "        if data_file.endswith(\".txt\"):\n",
    "            print(data_file)\n",
    "            data_dfs[data_file] = pd.read_csv(os.path.join(data_path, data_file), sep=\",\", header=None, names=columns)\n",
    "    for key in data_dfs.keys():\n",
    "        data_dfs[key] = convert_df(data_dfs[key])\n",
    "        data_dfs[key].to_csv(os.path.join(dataset_folder, folder, \"gt_np\", key), sep=\" \", header=False, index=False)"
   ]
  }
 ],
 "metadata": {
  "kernelspec": {
   "display_name": "Ml-env",
   "language": "python",
   "name": "python3"
  },
  "language_info": {
   "codemirror_mode": {
    "name": "ipython",
    "version": 3
   },
   "file_extension": ".py",
   "mimetype": "text/x-python",
   "name": "python",
   "nbconvert_exporter": "python",
   "pygments_lexer": "ipython3",
   "version": "3.11.3"
  }
 },
 "nbformat": 4,
 "nbformat_minor": 2
}
